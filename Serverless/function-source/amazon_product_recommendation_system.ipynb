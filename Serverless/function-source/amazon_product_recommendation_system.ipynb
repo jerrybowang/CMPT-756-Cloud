{
  "cells": [
    {
      "cell_type": "code",
      "execution_count": null,
      "metadata": {
        "id": "He71RA0gpm2-"
      },
      "outputs": [],
      "source": [
        "from sklearn.preprocessing import LabelEncoder\n",
        "from sklearn.model_selection import train_test_split\n",
        "import pandas as pd\n",
        "import numpy as np\n",
        "from sklearn.neighbors import NearestNeighbors"
      ]
    },
    {
      "cell_type": "code",
      "execution_count": null,
      "metadata": {
        "id": "mwvKwmJZppMw"
      },
      "outputs": [],
      "source": [
        "# https://www.kaggle.com/datasets/skillsmuggler/amazon-ratings\n",
        "df=pd.read_csv('ratings_Beauty.csv')\n"
      ]
    },
    {
      "cell_type": "code",
      "execution_count": null,
      "metadata": {
        "id": "YWCBFXwhpshu"
      },
      "outputs": [],
      "source": [
        "df=df.drop('Timestamp',axis=1)\n",
        "LE=LabelEncoder()\n",
        "df['UserId']=LE.fit_transform(df['UserId'])\n",
        "df['ProductId']=LE.fit_transform(df['ProductId'])"
      ]
    },
    {
      "cell_type": "code",
      "execution_count": null,
      "metadata": {
        "id": "NxmlAfalpw2D"
      },
      "outputs": [],
      "source": [
        "train,test=train_test_split(df,test_size=0.2)"
      ]
    },
    {
      "cell_type": "code",
      "execution_count": null,
      "metadata": {
        "colab": {
          "base_uri": "https://localhost:8080/"
        },
        "id": "sYbNO3N6pzDe",
        "outputId": "a14ba0ba-5673-457e-b733-527faafa8013"
      },
      "outputs": [
        {
          "data": {
            "text/plain": [
              "UserId\n",
              "234821    183\n",
              "109821    175\n",
              "69328     111\n",
              "221860     68\n",
              "167802     67\n",
              "301635     60\n",
              "304452     60\n",
              "230890     53\n",
              "87774      50\n",
              "175167     47\n",
              "296383     46\n",
              "247789     46\n",
              "298828     44\n",
              "300657     43\n",
              "120150     43\n",
              "7926       42\n",
              "182078     42\n",
              "196732     37\n",
              "109307     34\n",
              "311235     34\n",
              "169133     31\n",
              "315013     31\n",
              "269711     31\n",
              "284465     31\n",
              "62568      30\n",
              "Name: Rating, dtype: int64"
            ]
          },
          "execution_count": 10,
          "metadata": {},
          "output_type": "execute_result"
        }
      ],
      "source": [
        "no_of_rated_products_per_user = df.groupby(by='UserId')['Rating'].count().sort_values(ascending=False)\n",
        "no_of_rated_products_per_user.head(25)"
      ]
    },
    {
      "cell_type": "code",
      "execution_count": null,
      "metadata": {
        "id": "9qQvZU_hp3Vd"
      },
      "outputs": [],
      "source": [
        "nearest_neighbors=NearestNeighbors(metric='cosine',algorithm='brute',n_neighbors=5)"
      ]
    },
    {
      "cell_type": "code",
      "execution_count": null,
      "metadata": {
        "colab": {
          "base_uri": "https://localhost:8080/",
          "height": 75
        },
        "id": "KOJMiK9Hp5Ap",
        "outputId": "8fc8a0b9-3d30-4dbe-99cb-984af495be34"
      },
      "outputs": [
        {
          "data": {
            "text/html": [
              "<style>#sk-container-id-1 {color: black;background-color: white;}#sk-container-id-1 pre{padding: 0;}#sk-container-id-1 div.sk-toggleable {background-color: white;}#sk-container-id-1 label.sk-toggleable__label {cursor: pointer;display: block;width: 100%;margin-bottom: 0;padding: 0.3em;box-sizing: border-box;text-align: center;}#sk-container-id-1 label.sk-toggleable__label-arrow:before {content: \"▸\";float: left;margin-right: 0.25em;color: #696969;}#sk-container-id-1 label.sk-toggleable__label-arrow:hover:before {color: black;}#sk-container-id-1 div.sk-estimator:hover label.sk-toggleable__label-arrow:before {color: black;}#sk-container-id-1 div.sk-toggleable__content {max-height: 0;max-width: 0;overflow: hidden;text-align: left;background-color: #f0f8ff;}#sk-container-id-1 div.sk-toggleable__content pre {margin: 0.2em;color: black;border-radius: 0.25em;background-color: #f0f8ff;}#sk-container-id-1 input.sk-toggleable__control:checked~div.sk-toggleable__content {max-height: 200px;max-width: 100%;overflow: auto;}#sk-container-id-1 input.sk-toggleable__control:checked~label.sk-toggleable__label-arrow:before {content: \"▾\";}#sk-container-id-1 div.sk-estimator input.sk-toggleable__control:checked~label.sk-toggleable__label {background-color: #d4ebff;}#sk-container-id-1 div.sk-label input.sk-toggleable__control:checked~label.sk-toggleable__label {background-color: #d4ebff;}#sk-container-id-1 input.sk-hidden--visually {border: 0;clip: rect(1px 1px 1px 1px);clip: rect(1px, 1px, 1px, 1px);height: 1px;margin: -1px;overflow: hidden;padding: 0;position: absolute;width: 1px;}#sk-container-id-1 div.sk-estimator {font-family: monospace;background-color: #f0f8ff;border: 1px dotted black;border-radius: 0.25em;box-sizing: border-box;margin-bottom: 0.5em;}#sk-container-id-1 div.sk-estimator:hover {background-color: #d4ebff;}#sk-container-id-1 div.sk-parallel-item::after {content: \"\";width: 100%;border-bottom: 1px solid gray;flex-grow: 1;}#sk-container-id-1 div.sk-label:hover label.sk-toggleable__label {background-color: #d4ebff;}#sk-container-id-1 div.sk-serial::before {content: \"\";position: absolute;border-left: 1px solid gray;box-sizing: border-box;top: 0;bottom: 0;left: 50%;z-index: 0;}#sk-container-id-1 div.sk-serial {display: flex;flex-direction: column;align-items: center;background-color: white;padding-right: 0.2em;padding-left: 0.2em;position: relative;}#sk-container-id-1 div.sk-item {position: relative;z-index: 1;}#sk-container-id-1 div.sk-parallel {display: flex;align-items: stretch;justify-content: center;background-color: white;position: relative;}#sk-container-id-1 div.sk-item::before, #sk-container-id-1 div.sk-parallel-item::before {content: \"\";position: absolute;border-left: 1px solid gray;box-sizing: border-box;top: 0;bottom: 0;left: 50%;z-index: -1;}#sk-container-id-1 div.sk-parallel-item {display: flex;flex-direction: column;z-index: 1;position: relative;background-color: white;}#sk-container-id-1 div.sk-parallel-item:first-child::after {align-self: flex-end;width: 50%;}#sk-container-id-1 div.sk-parallel-item:last-child::after {align-self: flex-start;width: 50%;}#sk-container-id-1 div.sk-parallel-item:only-child::after {width: 0;}#sk-container-id-1 div.sk-dashed-wrapped {border: 1px dashed gray;margin: 0 0.4em 0.5em 0.4em;box-sizing: border-box;padding-bottom: 0.4em;background-color: white;}#sk-container-id-1 div.sk-label label {font-family: monospace;font-weight: bold;display: inline-block;line-height: 1.2em;}#sk-container-id-1 div.sk-label-container {text-align: center;}#sk-container-id-1 div.sk-container {/* jupyter's `normalize.less` sets `[hidden] { display: none; }` but bootstrap.min.css set `[hidden] { display: none !important; }` so we also need the `!important` here to be able to override the default hidden behavior on the sphinx rendered scikit-learn.org. See: https://github.com/scikit-learn/scikit-learn/issues/21755 */display: inline-block !important;position: relative;}#sk-container-id-1 div.sk-text-repr-fallback {display: none;}</style><div id=\"sk-container-id-1\" class=\"sk-top-container\"><div class=\"sk-text-repr-fallback\"><pre>NearestNeighbors(algorithm=&#x27;brute&#x27;, metric=&#x27;cosine&#x27;)</pre><b>In a Jupyter environment, please rerun this cell to show the HTML representation or trust the notebook. <br />On GitHub, the HTML representation is unable to render, please try loading this page with nbviewer.org.</b></div><div class=\"sk-container\" hidden><div class=\"sk-item\"><div class=\"sk-estimator sk-toggleable\"><input class=\"sk-toggleable__control sk-hidden--visually\" id=\"sk-estimator-id-1\" type=\"checkbox\" checked><label for=\"sk-estimator-id-1\" class=\"sk-toggleable__label sk-toggleable__label-arrow\">NearestNeighbors</label><div class=\"sk-toggleable__content\"><pre>NearestNeighbors(algorithm=&#x27;brute&#x27;, metric=&#x27;cosine&#x27;)</pre></div></div></div></div></div>"
            ],
            "text/plain": [
              "NearestNeighbors(algorithm='brute', metric='cosine')"
            ]
          },
          "execution_count": 12,
          "metadata": {},
          "output_type": "execute_result"
        }
      ],
      "source": [
        "nearest_neighbors.fit(train[['UserId','ProductId']])"
      ]
    },
    {
      "cell_type": "code",
      "execution_count": null,
      "metadata": {
        "id": "gvn-49MIp7C8"
      },
      "outputs": [],
      "source": [
        "import pandas as pd\n",
        "\n",
        "def recommendation_system_function(userID, n_recommendation, nearest_neighbors):\n",
        "    user_profile = df[df['UserId'] == userID].drop('Rating', axis=1)\n",
        "\n",
        "    # Find similar users using nearest neighbors based on user profiles\n",
        "    distances, indices = nearest_neighbors.kneighbors(user_profile)\n",
        "    similar_users = indices.flatten()\n",
        "\n",
        "    # Retrieve products rated by similar users\n",
        "    user_recommendations = []\n",
        "    for user in similar_users:\n",
        "        products_rated_by_user = df[df['UserId'] == user]\n",
        "        product_list = products_rated_by_user['ProductId'].unique()\n",
        "        user_recommendations.extend(product_list)\n",
        "    unique_recommendations = list(set(user_recommendations))\n",
        "\n",
        "    # Calculate the number of ratings for each recommended product\n",
        "    product_ratings_count = df[df['ProductId'].isin(unique_recommendations)]['ProductId'].value_counts()\n",
        "\n",
        "    # Sort the products based on ratings count in descending order\n",
        "    sorted_recommendations = product_ratings_count.sort_values(ascending=False)\n",
        "\n",
        "    # Select the top-rated recommendations\n",
        "    top_recommendations = sorted_recommendations.index[:n_recommendation]\n",
        "\n",
        "    # Convert recommended product IDs back to original form\n",
        "    recommended_product_codes = LE.inverse_transform(top_recommendations)\n",
        "\n",
        "    # Create a DataFrame to store the recommended products and their data\n",
        "    recommendation_table = pd.DataFrame({'Product ID': top_recommendations, 'Product Code': recommended_product_codes})\n",
        "    recommendation_table['Rating Count'] = recommendation_table['Product ID'].map(product_ratings_count)\n",
        "    recommendation_table.set_index('Product ID', inplace=True)\n",
        "\n",
        "    # Print the recommendation table\n",
        "    print(\"Recommended Products:\")\n",
        "    print(recommendation_table)\n",
        "\n",
        "    return recommended_product_codes"
      ]
    },
    {
      "cell_type": "code",
      "execution_count": null,
      "metadata": {
        "colab": {
          "base_uri": "https://localhost:8080/"
        },
        "id": "Ow6oWTV6p8LZ",
        "outputId": "94e56762-8a51-4841-8c8e-9ed7cb0ddd85"
      },
      "outputs": [
        {
          "name": "stdout",
          "output_type": "stream",
          "text": [
            "Series([], Name: UserId, dtype: int64)\n"
          ]
        }
      ],
      "source": [
        "print(df[df['ProductId']=='B003BMGA6C']['UserId'])"
      ]
    },
    {
      "cell_type": "code",
      "execution_count": null,
      "metadata": {
        "colab": {
          "base_uri": "https://localhost:8080/"
        },
        "id": "mf-jGpCRp9nu",
        "outputId": "024322c2-8fa3-4300-c265-4f9ad74f0bba"
      },
      "outputs": [
        {
          "name": "stdout",
          "output_type": "stream",
          "text": [
            "Recommended Products:\n",
            "           Product Code  Rating Count\n",
            "Product ID                           \n",
            "23255        B000KFX10G           406\n",
            "3641         B0001EKWPI           195\n",
            "5173         B00028MLKC            48\n",
            "13907        B000C213WA            41\n",
            "19327        B000GLB37C             4\n"
          ]
        }
      ],
      "source": [
        "user_id = 105  # Replace with the desired user ID\n",
        "num_recommendations = 10  # Replace with the desired number of recommendations\n",
        "\n",
        "recommended_products = recommendation_system_function(user_id, num_recommendations, nearest_neighbors)"
      ]
    }
  ],
  "metadata": {
    "colab": {
      "provenance": []
    },
    "kernelspec": {
      "display_name": "Python 3",
      "name": "python3"
    },
    "language_info": {
      "name": "python"
    }
  },
  "nbformat": 4,
  "nbformat_minor": 0
}
